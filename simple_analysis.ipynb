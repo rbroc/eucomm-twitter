{
 "cells": [
  {
   "cell_type": "code",
   "execution_count": 2,
   "metadata": {
    "id": "A8vPYLBo2AD1"
   },
   "outputs": [],
   "source": [
    "first_run = False"
   ]
  },
  {
   "cell_type": "code",
   "execution_count": 3,
   "metadata": {
    "id": "_A74NXPnaBRk"
   },
   "outputs": [],
   "source": [
    "import pandas as pd\n",
    "import json\n",
    "import glob\n",
    "import seaborn as sns\n",
    "from matplotlib import pyplot as plt\n",
    "import numpy as np\n",
    "from langdetect import detect\n",
    "import matplotlib.dates as md\n",
    "import plotly.express as px\n",
    "\n",
    "%load_ext autoreload\n",
    "%autoreload 2\n"
   ]
  },
  {
   "cell_type": "markdown",
   "metadata": {
    "tags": []
   },
   "source": [
    "### Structure\n",
    "Content and narratives\n",
    "- Topic modeling of EU Commission tweets [DONE]\n",
    "- Which topics generate most engagement? Which topics generate most positive or negative engagement? Which narratives resonate the most? [DONE]\n",
    "\n",
    "Styles\n",
    "- How is the style of the European commission tweeting? Is it related to engagement? [TODO]\n",
    "\n",
    "Emotional content\n",
    "- What is the prevalent emotional content? [TODO]\n",
    "\n",
    "Comparison\n",
    "- Which are the best predictors of engagement?\n",
    "    - Bag of words models [DONE]\n",
    "    - Transformer-based models [TODO]\n",
    "    - Stylistic predictors [TODO]\n",
    "    - Emotion predictors [TODO]\n",
    "    - Topic models [DONE]\n",
    "   \n",
    "### Meta:\n",
    "- Extend to other languages?\n",
    "- Extend to other accounts?"
   ]
  },
  {
   "cell_type": "markdown",
   "metadata": {},
   "source": [
    "### Content and narratives"
   ]
  },
  {
   "cell_type": "code",
   "execution_count": 22,
   "metadata": {},
   "outputs": [],
   "source": [
    "topic_20d = pd.read_json(f'logs/topic/{top_npmi[n_model][0]}/topic_preds_{int(top_npmi[n_model][1])}.jsonl',\n",
    "                         orient='records', lines=True)\n",
    "response_df = pd.read_json('processed/pre_topic_responses_sentiment.jsonl', \n",
    "                           orient='records', \n",
    "                           lines=True)   "
   ]
  },
  {
   "cell_type": "code",
   "execution_count": 23,
   "metadata": {},
   "outputs": [],
   "source": [
    "# Display topic evolution\n",
    "# Overview, engagement\n",
    "# Overview sentiment of comments"
   ]
  },
  {
   "cell_type": "markdown",
   "metadata": {},
   "source": [
    "### Styles"
   ]
  },
  {
   "cell_type": "code",
   "execution_count": null,
   "metadata": {},
   "outputs": [],
   "source": [
    "import spacy\n",
    "import textdescriptives as td\n",
    "nlp = spacy.load(\"en_core_web_md\")\n",
    "nlp.add_pipe(\"textdescriptives\") \n",
    "dfs = [] \n",
    "for t in topic_20d['text']:\n",
    "    try: dfs.append(td.extract_df(nlp(t))) \n",
    "    except: print(t); pass"
   ]
  },
  {
   "cell_type": "code",
   "execution_count": 49,
   "metadata": {},
   "outputs": [],
   "source": [
    "# Plot style distribution per topic\n",
    "# Plot style over time\n",
    "# Plot engagement by style"
   ]
  },
  {
   "cell_type": "markdown",
   "metadata": {},
   "source": [
    "### Emotions"
   ]
  },
  {
   "cell_type": "code",
   "execution_count": 53,
   "metadata": {},
   "outputs": [],
   "source": [
    "# Maybe do the same"
   ]
  },
  {
   "cell_type": "markdown",
   "metadata": {},
   "source": [
    "### Predictive models"
   ]
  },
  {
   "cell_type": "code",
   "execution_count": null,
   "metadata": {},
   "outputs": [],
   "source": [
    "# Comparative performance\n",
    "# Alternatively, try regression"
   ]
  }
 ],
 "metadata": {
  "accelerator": "GPU",
  "colab": {
   "collapsed_sections": [],
   "private_outputs": true,
   "provenance": []
  },
  "gpuClass": "standard",
  "interpreter": {
   "hash": "ba954e04f94d5e4970321c570fb05eff7c202d9f1ab5b8ba406812668fc94516"
  },
  "kernelspec": {
   "display_name": "tw-langmod",
   "language": "python",
   "name": "tw-langmod"
  },
  "language_info": {
   "codemirror_mode": {
    "name": "ipython",
    "version": 3
   },
   "file_extension": ".py",
   "mimetype": "text/x-python",
   "name": "python",
   "nbconvert_exporter": "python",
   "pygments_lexer": "ipython3",
   "version": "3.8.10"
  }
 },
 "nbformat": 4,
 "nbformat_minor": 4
}
